{
 "cells": [
  {
   "attachments": {},
   "cell_type": "markdown",
   "metadata": {},
   "source": [
    "#### Exercise: Matrix Math"
   ]
  },
  {
   "cell_type": "code",
   "execution_count": 2,
   "metadata": {},
   "outputs": [],
   "source": [
    "import numpy as np\n",
    "from forex_python.converter import CurrencyRates"
   ]
  },
  {
   "attachments": {},
   "cell_type": "markdown",
   "metadata": {},
   "source": [
    "Below is some indian companies revenues in US dollars. Using numpy can you convert this into Indian rupees?\n",
    "(get currency rate using forex-python)\n",
    "\n",
    "![](revenue_usd.jpg)"
   ]
  },
  {
   "cell_type": "code",
   "execution_count": 6,
   "metadata": {},
   "outputs": [
    {
     "data": {
      "text/plain": [
       "82.73639896373057"
      ]
     },
     "execution_count": 6,
     "metadata": {},
     "output_type": "execute_result"
    }
   ],
   "source": [
    "c = CurrencyRates()\n",
    "rUSD = np.array([[200, 220, 250], [68, 79, 105], [110, 140, 180], [80, 85, 90]])\n",
    "c.get_rate('USD', 'INR')"
   ]
  },
  {
   "cell_type": "code",
   "execution_count": 7,
   "metadata": {},
   "outputs": [
    {
     "data": {
      "text/plain": [
       "array([[16547.27979275, 18202.00777202, 20684.09974093],\n",
       "       [ 5626.07512953,  6536.17551813,  8687.32189119],\n",
       "       [ 9101.00388601, 11583.09585492, 14892.55181347],\n",
       "       [ 6618.9119171 ,  7032.59391192,  7446.27590674]])"
      ]
     },
     "execution_count": 7,
     "metadata": {},
     "output_type": "execute_result"
    }
   ],
   "source": [
    "rINR = rUSD * c.get_rate('USD', 'INR')\n",
    "rINR"
   ]
  },
  {
   "attachments": {},
   "cell_type": "markdown",
   "metadata": {},
   "source": [
    "Divine flowers is a flower shop that sells different type of flowers. Below is the table showing how many flowers of each type they sold in different months. Also given are the prices of one flower each. Using this find out their total sales in every month.\n",
    "\n",
    "![](flowers.jpg)"
   ]
  },
  {
   "cell_type": "code",
   "execution_count": 5,
   "metadata": {},
   "outputs": [
    {
     "data": {
      "text/plain": [
       "array([3175,  665, 3680])"
      ]
     },
     "execution_count": 5,
     "metadata": {},
     "output_type": "execute_result"
    }
   ],
   "source": [
    "units = np.array([[50, 60, 25], [10, 13, 5], [40, 70, 52]])\n",
    "unitPrice = np.array([20, 30, 15])\n",
    "\n",
    "totalPrice = np.dot(units, unitPrice)\n",
    "totalPrice"
   ]
  }
 ],
 "metadata": {
  "kernelspec": {
   "display_name": "base",
   "language": "python",
   "name": "python3"
  },
  "language_info": {
   "codemirror_mode": {
    "name": "ipython",
    "version": 3
   },
   "file_extension": ".py",
   "mimetype": "text/x-python",
   "name": "python",
   "nbconvert_exporter": "python",
   "pygments_lexer": "ipython3",
   "version": "3.9.13"
  },
  "orig_nbformat": 4
 },
 "nbformat": 4,
 "nbformat_minor": 2
}
